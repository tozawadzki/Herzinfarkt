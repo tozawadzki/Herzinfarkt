{
 "cells": [
  {
   "cell_type": "code",
   "execution_count": 1,
   "metadata": {
    "pycharm": {
     "is_executing": false
    }
   },
   "outputs": [],
   "source": [
    "import pandas as pd\n",
    "import numpy as np\n",
    "import matplotlib.pyplot as plt\n",
    "\n",
    "from scipy.stats import ttest_rel\n",
    "from tabulate import tabulate"
   ]
  },
  {
   "cell_type": "code",
   "execution_count": 2,
   "metadata": {
    "pycharm": {
     "is_executing": false,
     "name": "#%%\n"
    }
   },
   "outputs": [],
   "source": [
    "filename = \"resultaty2.csv\""
   ]
  },
  {
   "cell_type": "code",
   "execution_count": 3,
   "metadata": {
    "pycharm": {
     "is_executing": false,
     "name": "#%%\n"
    }
   },
   "outputs": [],
   "source": [
    "df = pd.read_csv(filename)\n",
    "df = df.drop(columns='Unnamed: 0')"
   ]
  },
  {
   "cell_type": "code",
   "execution_count": 4,
   "metadata": {
    "pycharm": {
     "is_executing": false,
     "name": "#%%\n"
    }
   },
   "outputs": [],
   "source": [
    "grouped = df.groupby(by=[\"layer_size\",\"momentum_value\",\"feature_number\"])"
   ]
  },
  {
   "cell_type": "code",
   "execution_count": 5,
   "metadata": {
    "pycharm": {
     "is_executing": false,
     "name": "#%%\n"
    }
   },
   "outputs": [],
   "source": [
    "def get_n_best_params(grouped_df:pd.DataFrame,n:int=10):\n",
    "    params = pd.Index([\"layer_size\",\"momentum_value\",\"feature_number\"])\n",
    "    n_best = grouped_df.mean().sort_values(\"score\",ascending=False).head(n).reset_index()\n",
    "    return list(n_best[params].itertuples(index=False,name=None))"
   ]
  },
  {
   "cell_type": "code",
   "execution_count": 6,
   "metadata": {
    "pycharm": {
     "is_executing": false,
     "name": "#%%\n"
    }
   },
   "outputs": [],
   "source": [
    "def get_scores_for_feature_number(grouped_df, feature_number:int,layer_sizes=(100,200,300),momentums=(0,0.9)):\n",
    "    scores = []\n",
    "    lists = grouped_df.score.apply(list)\n",
    "    for layer_size in layer_sizes:\n",
    "        for momentum in momentums:\n",
    "            scores.append(lists[layer_size,momentum,feature_number])\n",
    "    return scores\n",
    "\n",
    "\n",
    "def get_scores_for_layer_momentum(grouped_df,layer_size:int,momentum:float, feature_numbers:list):\n",
    "    scores = []\n",
    "    lists = grouped_df.score.apply(list)\n",
    "    for feature_number in feature_numbers:\n",
    "        scores.append(lists[layer_size,momentum,feature_number])\n",
    "    return scores"
   ]
  },
  {
   "cell_type": "code",
   "execution_count": 28,
   "metadata": {
    "pycharm": {
     "is_executing": false,
     "name": "#%%\n"
    }
   },
   "outputs": [],
   "source": [
    "def get_ttest_summary_for_feature_number(grouped_df,feature_number:int, verbose:int=0, layer_sizes=(10,20,30)):\n",
    "    scores = get_scores_for_feature_number(grouped_df,feature_number,layer_sizes=layer_sizes)\n",
    "\n",
    "    m = 6\n",
    "    \n",
    "    t_statistic = np.zeros((m,m))\n",
    "    p_value = np.zeros((m,m))\n",
    "    \n",
    "    for i in range(m):\n",
    "        for j in range(m):\n",
    "            t_statistic[i, j], p_value[i, j] = ttest_rel(scores[i], scores[j])\n",
    "    \n",
    "    \n",
    "    \n",
    "    headers = [\"100, 0\", \"100, 0.9\", \"200, 0\", \"200, 0.9\", \"300, 0\", \"300, 0.9\"]\n",
    "    names_column = np.array([[\"100, 0\"], [\"100, 0.9\"], [\"200, 0\"], [\"200, 0.9\"],[\"300, 0\"], [\"300, 0.9\"]])\n",
    "    t_statistic_table = np.concatenate((names_column, t_statistic), axis=1)\n",
    "    t_statistic_table = tabulate(t_statistic_table, headers, floatfmt=\".2f\")\n",
    "    p_value_table = np.concatenate((names_column, p_value), axis=1)\n",
    "    p_value_table = tabulate(p_value_table, headers, floatfmt=\".2f\")\n",
    "    if verbose:    \n",
    "        print(\"t-statistic:\\n\", t_statistic_table, \"\\n\\np-value:\\n\", p_value_table)\n",
    "    \n",
    "    \n",
    "    alpha = .05\n",
    "    significance = np.zeros((m,m))\n",
    "    significance[p_value <= alpha] = 1\n",
    "    significance_table = tabulate(np.concatenate(\n",
    "        (names_column, significance), axis=1), headers)\n",
    "    if verbose:    \n",
    "        print(\"Statistical significance (alpha = 0.05):\\n\", significance_table)\n",
    "    \n",
    "    \n",
    "    advantage = np.zeros((m,m))\n",
    "    advantage[t_statistic > 0] = 1\n",
    "    advantage_table = tabulate(np.concatenate(\n",
    "       (names_column, advantage), axis=1), headers)\n",
    "    if verbose:\n",
    "        print(\"Advantage:\\n\", advantage_table)\n",
    "    \n",
    "    stat_better = significance * advantage\n",
    "    stat_better_table = tabulate(np.concatenate(\n",
    "        (names_column, stat_better), axis=1), headers)\n",
    "    print(\"Statistically significantly better:\\n\", stat_better_table)\n",
    "\n",
    "def get_ttest_summary_for_layer_momentum(grouped_df,feature_numbers:list,layer:int,momentum:float, verbose:int=0):\n",
    "    scores = get_scores_for_layer_momentum(grouped_df=grouped_df,feature_numbers=feature_numbers,\n",
    "                                           layer_size=layer,momentum=momentum)\n",
    "\n",
    "    m = len(feature_numbers)\n",
    "    \n",
    "    t_statistic = np.zeros((m,m))\n",
    "    p_value = np.zeros((m,m))\n",
    "    \n",
    "    for i in range(m):\n",
    "        for j in range(m):\n",
    "            t_statistic[i, j], p_value[i, j] = ttest_rel(scores[i], scores[j])\n",
    "    \n",
    "    \n",
    "    headers = [str(fn) for fn in feature_numbers]\n",
    "    names_column = np.array([[str(fn)] for fn in feature_numbers])\n",
    "    t_statistic_table = np.concatenate((names_column, t_statistic), axis=1)\n",
    "    t_statistic_table = tabulate(t_statistic_table, headers, floatfmt=\".2f\")\n",
    "    p_value_table = np.concatenate((names_column, p_value), axis=1)\n",
    "    p_value_table = tabulate(p_value_table, headers, floatfmt=\".2f\")\n",
    "    if verbose:\n",
    "        print(\"t-statistic:\\n\", t_statistic_table, \"\\n\\np-value:\\n\", p_value_table)\n",
    "    \n",
    "    \n",
    "    alpha = .05\n",
    "    significance = np.zeros((m,m))\n",
    "    significance[p_value <= alpha] = 1\n",
    "    significance_table = tabulate(np.concatenate(\n",
    "        (names_column, significance), axis=1), headers)\n",
    "    if verbose:    \n",
    "        print(\"Statistical significance (alpha = 0.05):\\n\", significance_table)\n",
    "    \n",
    "    \n",
    "    advantage = np.zeros((m,m))\n",
    "    advantage[t_statistic > 0] = 1\n",
    "    advantage_table = tabulate(np.concatenate(\n",
    "       (names_column, advantage), axis=1), headers)\n",
    "    if verbose:\n",
    "        print(\"Advantage:\\n\", advantage_table)\n",
    "    \n",
    "    stat_better = significance * advantage\n",
    "    stat_better_table = tabulate(np.concatenate(\n",
    "        (names_column, stat_better), axis=1), headers)\n",
    "    print(\"Statistically significantly better:\\n\", stat_better_table)\n",
    "\n",
    "def get_mean_std_for_params(grouped_df,feature_number,layer_size,momentum):\n",
    "    scores = grouped_df.score.apply(list)\n",
    "    return np.mean(scores[layer_size,momentum,feature_number]), np.std(scores[layer_size,momentum,feature_number])"
   ]
  },
  {
   "cell_type": "code",
   "execution_count": 44,
   "metadata": {
    "pycharm": {
     "is_executing": false,
     "name": "#%%\n"
    }
   },
   "outputs": [
    {
     "name": "stdout",
     "output_type": "stream",
     "text": [
      "(0.788240453313624, 0.012787544780078687)\n",
      "[(100, 0.9, 56), (200, 0.0, 55), (300, 0.0, 58), (100, 0.0, 59), (100, 0.0, 54), (100, 0.0, 58), (200, 0.9, 57), (200, 0.0, 56), (300, 0.0, 55), (300, 0.0, 56)]\n",
      "================= Feature number 8 ====================\n",
      "\n",
      "100, 0.0:\t\t0.6788016752894801(0.0064870890914358855)\n",
      "100, 0.9:\t\t0.680360679970436(0.011588138022088286)\n",
      "200, 0.0:\t\t0.6725888149790589(0.017781083672053444)\n",
      "200, 0.9:\t\t0.678349347129835(0.01633415091186769)\n",
      "300, 0.0:\t\t0.6885710766198571(0.01429355564107443)\n",
      "300, 0.9:\t\t0.6881212121212121(0.017195849436797975)\n",
      "================= Feature number 9 ====================\n",
      "\n",
      "100, 0.0:\t\t0.7358373983739838(0.013790586984046086)\n",
      "100, 0.9:\t\t0.7460527223454053(0.014660258622550375)\n",
      "200, 0.0:\t\t0.7398428184281843(0.017753330772246795)\n",
      "200, 0.9:\t\t0.7422828282828282(0.022532664632264318)\n",
      "300, 0.0:\t\t0.7371899482631189(0.010281525596667075)\n",
      "300, 0.9:\t\t0.7405119487558511(0.01943164050870026)\n",
      "================= Feature number 10 ====================\n",
      "\n",
      "100, 0.0:\t\t0.7513835920177383(0.016550593692976404)\n",
      "100, 0.9:\t\t0.7509425966986942(0.010229381029150138)\n",
      "200, 0.0:\t\t0.7493924611973393(0.007684200539521631)\n",
      "200, 0.9:\t\t0.7527213599408721(0.008763984236890702)\n",
      "300, 0.0:\t\t0.7544882976102488(0.009124683620221606)\n",
      "300, 0.9:\t\t0.758711012564671(0.0076010700692887585)\n",
      "================= Feature number 11 ====================\n",
      "\n",
      "100, 0.0:\t\t0.7516127124907612(0.017324175855349018)\n",
      "100, 0.9:\t\t0.7562847992116286(0.013927569621694877)\n",
      "200, 0.0:\t\t0.7589406257698942(0.017990915517824033)\n",
      "200, 0.9:\t\t0.7540517368810051(0.010293858668395819)\n",
      "300, 0.0:\t\t0.7542749445676276(0.01152962761463565)\n",
      "300, 0.9:\t\t0.7529519586104951(0.014812840582484565)\n",
      "================= Feature number 12 ====================\n",
      "\n",
      "100, 0.0:\t\t0.7655811776299581(0.01563889638124955)\n",
      "100, 0.9:\t\t0.7655870904163586(0.009278082549295366)\n",
      "200, 0.0:\t\t0.7682636117270263(0.012917643399545735)\n",
      "200, 0.9:\t\t0.7682547425474253(0.014120083532143706)\n",
      "300, 0.0:\t\t0.770260655333826(0.01250611248724048)\n",
      "300, 0.9:\t\t0.7749081054446908(0.012596019653787484)\n",
      "================= Feature number 13 ====================\n",
      "\n",
      "100, 0.0:\t\t0.7802527716186252(0.01705608222598173)\n",
      "100, 0.9:\t\t0.786019216555802(0.013334898330846848)\n",
      "200, 0.0:\t\t0.7888943089430894(0.012084581109248914)\n",
      "200, 0.9:\t\t0.7818078344419808(0.0120181008725109)\n",
      "300, 0.0:\t\t0.7929026853904902(0.011124383616842844)\n",
      "300, 0.9:\t\t0.7909046563192905(0.010749718430442598)\n",
      "================= Feature number 14 ====================\n",
      "\n",
      "100, 0.0:\t\t0.7878024143877801(0.01233564411611377)\n",
      "100, 0.9:\t\t0.7835673811283568(0.01002456365049622)\n",
      "200, 0.0:\t\t0.7882379896526238(0.01601895502412798)\n",
      "200, 0.9:\t\t0.776239960581424(0.011696124555680833)\n",
      "300, 0.0:\t\t0.7953426952451343(0.013470950476643189)\n",
      "300, 0.9:\t\t0.788240453313624(0.012787544780078687)\n",
      "================= Feature number 15 ====================\n",
      "\n",
      "100, 0.0:\t\t0.7833466371027347(0.012614390813420822)\n",
      "100, 0.9:\t\t0.7813559990145357(0.012322433956938808)\n",
      "200, 0.0:\t\t0.7926784922394677(0.014269309528461)\n",
      "200, 0.9:\t\t0.7844592264104459(0.01289021545657933)\n",
      "300, 0.0:\t\t0.7831254003449126(0.011317831047198133)\n",
      "300, 0.9:\t\t0.7968928307464893(0.016060302655941727)\n",
      "================= Feature number 16 ====================\n",
      "\n",
      "100, 0.0:\t\t0.7855826558265584(0.018951025793716426)\n",
      "100, 0.9:\t\t0.7922374969204238(0.013036882302051724)\n",
      "200, 0.0:\t\t0.7855772357723577(0.015142771711737106)\n",
      "200, 0.9:\t\t0.7895718157181572(0.018688692317662955)\n",
      "300, 0.0:\t\t0.7897896033505789(0.011177648322884483)\n",
      "300, 0.9:\t\t0.7846848977580686(0.01337192288077632)\n",
      "================= Feature number 17 ====================\n",
      "\n",
      "100, 0.0:\t\t0.7935668883961566(0.012445612502064917)\n",
      "100, 0.9:\t\t0.7871249076127125(0.011469718718639962)\n",
      "200, 0.0:\t\t0.7960093619118009(0.0116765300721384)\n",
      "200, 0.9:\t\t0.7882315841340232(0.016512898602877676)\n",
      "300, 0.0:\t\t0.7908879034244888(0.01457216559030715)\n",
      "300, 0.9:\t\t0.7897866469573787(0.01183845582226645)\n"
     ]
    }
   ],
   "source": [
    "print(get_mean_std_for_params(grouped,14,300,0.9))\n",
    "\n",
    "print(get_n_best_params(grouped))\n",
    "\n",
    "for fn in range(8,18):\n",
    "    print(f\"================= Feature number {fn} ====================\\n\")\n",
    "    for layer_size in [100,200,300]:\n",
    "        for momentum in [0.0,.9]:\n",
    "            mean, std = get_mean_std_for_params(grouped,fn,layer_size,momentum)\n",
    "            print(f\"{layer_size}, {momentum}:\\t\\t{mean}({std})\")"
   ]
  },
  {
   "cell_type": "code",
   "execution_count": 46,
   "metadata": {
    "pycharm": {
     "is_executing": false,
     "name": "#%%\n"
    }
   },
   "outputs": [
    {
     "name": "stdout",
     "output_type": "stream",
     "text": [
      "t-statistic:\n",
      "          8       9      10      11      12      13      14      15      16      17\n",
      "--  ------  ------  ------  ------  ------  ------  ------  ------  ------  ------\n",
      " 8  nan      -6.07  -13.25   -7.66  -12.53  -15.34  -14.12  -15.28  -14.41  -13.20\n",
      " 9    6.07  nan      -2.97   -2.09   -3.84   -9.74   -7.22   -5.55   -4.87   -8.23\n",
      "10   13.25    2.97  nan       1.03   -2.95  -10.21   -6.66   -6.32   -5.04   -7.14\n",
      "11    7.66    2.09   -1.03  nan      -2.85   -8.43  -11.37   -6.42   -4.24   -6.70\n",
      "12   12.53    3.84    2.95    2.85  nan      -2.42   -2.09   -3.90   -1.91   -2.37\n",
      "13   15.34    9.74   10.21    8.43    2.42  nan       0.62   -0.89    1.26    0.22\n",
      "14   14.12    7.22    6.66   11.37    2.09   -0.62  nan      -1.92    0.62   -0.33\n",
      "15   15.28    5.55    6.32    6.42    3.90    0.89    1.92  nan       2.67    1.10\n",
      "16   14.41    4.87    5.04    4.24    1.91   -1.26   -0.62   -2.67  nan      -0.80\n",
      "17   13.20    8.23    7.14    6.70    2.37   -0.22    0.33   -1.10    0.80  nan \n",
      "\n",
      "p-value:\n",
      "          8       9      10      11      12      13      14      15      16      17\n",
      "--  ------  ------  ------  ------  ------  ------  ------  ------  ------  ------\n",
      " 8  nan       0.00    0.00    0.00    0.00    0.00    0.00    0.00    0.00    0.00\n",
      " 9    0.00  nan       0.02    0.07    0.00    0.00    0.00    0.00    0.00    0.00\n",
      "10    0.00    0.02  nan       0.33    0.02    0.00    0.00    0.00    0.00    0.00\n",
      "11    0.00    0.07    0.33  nan       0.02    0.00    0.00    0.00    0.00    0.00\n",
      "12    0.00    0.00    0.02    0.02  nan       0.04    0.07    0.00    0.09    0.04\n",
      "13    0.00    0.00    0.00    0.00    0.04  nan       0.55    0.40    0.24    0.83\n",
      "14    0.00    0.00    0.00    0.00    0.07    0.55  nan       0.09    0.55    0.75\n",
      "15    0.00    0.00    0.00    0.00    0.00    0.40    0.09  nan       0.03    0.30\n",
      "16    0.00    0.00    0.00    0.00    0.09    0.24    0.55    0.03  nan       0.44\n",
      "17    0.00    0.00    0.00    0.00    0.04    0.83    0.75    0.30    0.44  nan\n",
      "Statistical significance (alpha = 0.05):\n",
      "       8    9    10    11    12    13    14    15    16    17\n",
      "--  ---  ---  ----  ----  ----  ----  ----  ----  ----  ----\n",
      " 8    0    1     1     1     1     1     1     1     1     1\n",
      " 9    1    0     1     0     1     1     1     1     1     1\n",
      "10    1    1     0     0     1     1     1     1     1     1\n",
      "11    1    0     0     0     1     1     1     1     1     1\n",
      "12    1    1     1     1     0     1     0     1     0     1\n",
      "13    1    1     1     1     1     0     0     0     0     0\n",
      "14    1    1     1     1     0     0     0     0     0     0\n",
      "15    1    1     1     1     1     0     0     0     1     0\n",
      "16    1    1     1     1     0     0     0     1     0     0\n",
      "17    1    1     1     1     1     0     0     0     0     0\n",
      "Advantage:\n",
      "       8    9    10    11    12    13    14    15    16    17\n",
      "--  ---  ---  ----  ----  ----  ----  ----  ----  ----  ----\n",
      " 8    0    0     0     0     0     0     0     0     0     0\n",
      " 9    1    0     0     0     0     0     0     0     0     0\n",
      "10    1    1     0     1     0     0     0     0     0     0\n",
      "11    1    1     0     0     0     0     0     0     0     0\n",
      "12    1    1     1     1     0     0     0     0     0     0\n",
      "13    1    1     1     1     1     0     1     0     1     1\n",
      "14    1    1     1     1     1     0     0     0     1     0\n",
      "15    1    1     1     1     1     1     1     0     1     1\n",
      "16    1    1     1     1     1     0     0     0     0     0\n",
      "17    1    1     1     1     1     0     1     0     1     0\n",
      "Statistically significantly better:\n",
      "       8    9    10    11    12    13    14    15    16    17\n",
      "--  ---  ---  ----  ----  ----  ----  ----  ----  ----  ----\n",
      " 8    0    0     0     0     0     0     0     0     0     0\n",
      " 9    1    0     0     0     0     0     0     0     0     0\n",
      "10    1    1     0     0     0     0     0     0     0     0\n",
      "11    1    0     0     0     0     0     0     0     0     0\n",
      "12    1    1     1     1     0     0     0     0     0     0\n",
      "13    1    1     1     1     1     0     0     0     0     0\n",
      "14    1    1     1     1     0     0     0     0     0     0\n",
      "15    1    1     1     1     1     0     0     0     1     0\n",
      "16    1    1     1     1     0     0     0     0     0     0\n",
      "17    1    1     1     1     1     0     0     0     0     0\n"
     ]
    }
   ],
   "source": [
    "get_ttest_summary_for_layer_momentum(grouped,list(range(8,18)),300,0.9,True)"
   ]
  },
  {
   "cell_type": "code",
   "execution_count": 36,
   "metadata": {
    "pycharm": {
     "is_executing": false,
     "name": "#%%\n"
    }
   },
   "outputs": [
    {
     "name": "stdout",
     "output_type": "stream",
     "text": [
      "t-statistic:\n",
      "             100, 0    100, 0.9    200, 0    200, 0.9    300, 0    300, 0.9\n",
      "--------  --------  ----------  --------  ----------  --------  ----------\n",
      "100, 0      nan           0.62     -0.08        1.58     -1.39       -0.08\n",
      "100, 0.9     -0.62      nan        -0.70        1.68     -1.94       -0.78\n",
      "200, 0        0.08        0.70    nan           2.11     -1.00       -0.00\n",
      "200, 0.9     -1.58       -1.68     -2.11      nan        -2.91       -2.08\n",
      "300, 0        1.39        1.94      1.00        2.91    nan           1.06\n",
      "300, 0.9      0.08        0.78      0.00        2.08     -1.06      nan \n",
      "\n",
      "p-value:\n",
      "             100, 0    100, 0.9    200, 0    200, 0.9    300, 0    300, 0.9\n",
      "--------  --------  ----------  --------  ----------  --------  ----------\n",
      "100, 0      nan           0.55      0.94        0.15      0.20        0.94\n",
      "100, 0.9      0.55      nan         0.50        0.13      0.08        0.46\n",
      "200, 0        0.94        0.50    nan           0.06      0.35        1.00\n",
      "200, 0.9      0.15        0.13      0.06      nan         0.02        0.07\n",
      "300, 0        0.20        0.08      0.35        0.02    nan           0.32\n",
      "300, 0.9      0.94        0.46      1.00        0.07      0.32      nan\n",
      "Statistical significance (alpha = 0.05):\n",
      "             100, 0    100, 0.9    200, 0    200, 0.9    300, 0    300, 0.9\n",
      "--------  --------  ----------  --------  ----------  --------  ----------\n",
      "100, 0           0           0         0           0         0           0\n",
      "100, 0.9         0           0         0           0         0           0\n",
      "200, 0           0           0         0           0         0           0\n",
      "200, 0.9         0           0         0           0         1           0\n",
      "300, 0           0           0         0           1         0           0\n",
      "300, 0.9         0           0         0           0         0           0\n",
      "Advantage:\n",
      "             100, 0    100, 0.9    200, 0    200, 0.9    300, 0    300, 0.9\n",
      "--------  --------  ----------  --------  ----------  --------  ----------\n",
      "100, 0           0           1         0           1         0           0\n",
      "100, 0.9         0           0         0           1         0           0\n",
      "200, 0           1           1         0           1         0           0\n",
      "200, 0.9         0           0         0           0         0           0\n",
      "300, 0           1           1         1           1         0           1\n",
      "300, 0.9         1           1         1           1         0           0\n",
      "Statistically significantly better:\n",
      "             100, 0    100, 0.9    200, 0    200, 0.9    300, 0    300, 0.9\n",
      "--------  --------  ----------  --------  ----------  --------  ----------\n",
      "100, 0           0           0         0           0         0           0\n",
      "100, 0.9         0           0         0           0         0           0\n",
      "200, 0           0           0         0           0         0           0\n",
      "200, 0.9         0           0         0           0         0           0\n",
      "300, 0           0           0         0           1         0           0\n",
      "300, 0.9         0           0         0           0         0           0\n"
     ]
    }
   ],
   "source": [
    "get_ttest_summary_for_feature_number(grouped,14,layer_sizes=[100,200,300],verbose=1)\n"
   ]
  },
  {
   "cell_type": "code",
   "execution_count": 14,
   "metadata": {
    "pycharm": {
     "is_executing": false,
     "name": "#%%\n"
    }
   },
   "outputs": [],
   "source": [
    "filename = \"resultaty2.csv\""
   ]
  },
  {
   "cell_type": "code",
   "execution_count": 15,
   "metadata": {
    "pycharm": {
     "is_executing": false,
     "name": "#%%\n"
    }
   },
   "outputs": [],
   "source": [
    "df = pd.read_csv(filename)\n",
    "df = df.drop(columns='Unnamed: 0')"
   ]
  },
  {
   "cell_type": "code",
   "execution_count": 16,
   "metadata": {
    "pycharm": {
     "is_executing": false,
     "name": "#%%\n"
    }
   },
   "outputs": [],
   "source": [
    "grouped = df.groupby(by=[\"layer_size\",\"momentum_value\",\"feature_number\"])"
   ]
  },
  {
   "cell_type": "code",
   "execution_count": 41,
   "metadata": {
    "pycharm": {
     "is_executing": false,
     "name": "#%%\n"
    }
   },
   "outputs": [],
   "source": [
    "y1 = []\n",
    "y2 = []\n",
    "y3 = []\n",
    "y4 = []\n",
    "for i in range(1,20):\n",
    "    #y1.append(grouped.get_group((100,0.9,i)).mean()[\"score\"])\n",
    "    #y2.append(grouped.get_group((200,0.9,i)).mean()[\"score\"])\n",
    "    #y3.append(grouped.get_group((300,0.9,i)).mean()[\"score\"])\n",
    "    \n",
    "    y1.append(grouped.get_group((100,0,i)).mean()[\"score\"])\n",
    "    y2.append(grouped.get_group((100,0.9,i)).mean()[\"score\"])\n",
    "    y3.append(grouped.get_group((300,0,i)).mean()[\"score\"])\n",
    "    y4.append(grouped.get_group((300,0.9,i)).mean()[\"score\"])\n",
    "    "
   ]
  },
  {
   "cell_type": "code",
   "execution_count": 42,
   "metadata": {
    "pycharm": {
     "is_executing": false,
     "name": "#%%\n"
    }
   },
   "outputs": [
    {
     "data": {
      "image/png": "[encoded data removed]",
      "text/plain": [
       "<Figure size 432x288 with 1 Axes>"
      ]
     },
     "metadata": {
      "needs_background": "light"
     },
     "output_type": "display_data"
    }
   ],
   "source": [
    "\n",
    "plt.ylim([0,1])\n",
    "plt.plot(y1,'r',label=\"100 neuronów, momentum 0\")\n",
    "plt.plot(y2,'b',label=\"100 neuronów, momentum 0.9\")\n",
    "plt.plot(y3,'g',label=\"300 neuronów, momentum 0\")\n",
    "plt.plot(y4,'y',label=\"300 neuronów, momentum 0.9\")\n",
    "plt.ylabel(\"Trafność\")\n",
    "plt.xlabel(\"Liczba cech\")\n",
    "plt.legend()\n",
    "plt.grid(True)\n",
    "\n",
    "#plt.title(\"\")\n",
    "#plt.show()\n",
    "\n",
    "plt.savefig(\"zmomentum.pdf\")"
   ]
  }
 ],
 "metadata": {
  "kernelspec": {
   "display_name": "Python 3",
   "language": "python",
   "name": "python3"
  },
  "language_info": {
   "codemirror_mode": {
    "name": "ipython",
    "version": 3
   },
   "file_extension": ".py",
   "mimetype": "text/x-python",
   "name": "python",
   "nbconvert_exporter": "python",
   "pygments_lexer": "ipython3",
   "version": "3.9.2"
  },
  "metadata": {
   "interpreter": {
    "hash": "7812ea015bdcee6f23a998adcdd2ef97c151c0c241b7b7070987d9313e41299d"
   }
  },
  "pycharm": {
   "stem_cell": {
    "cell_type": "raw",
    "metadata": {
     "collapsed": false
    },
    "source": []
   }
  }
 },
 "nbformat": 4,
 "nbformat_minor": 1
}
